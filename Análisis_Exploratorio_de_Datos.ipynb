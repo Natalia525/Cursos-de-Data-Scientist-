{
  "nbformat": 4,
  "nbformat_minor": 0,
  "metadata": {
    "colab": {
      "provenance": [],
      "authorship_tag": "ABX9TyN6uFbP00I4eCZwPD29ocgb",
      "include_colab_link": true
    },
    "kernelspec": {
      "name": "python3",
      "display_name": "Python 3"
    },
    "language_info": {
      "name": "python"
    }
  },
  "cells": [
    {
      "cell_type": "markdown",
      "metadata": {
        "id": "view-in-github",
        "colab_type": "text"
      },
      "source": [
        "<a href=\"https://colab.research.google.com/github/Natalia525/Cursos-de-Data-Scientist-/blob/master/An%C3%A1lisis_Exploratorio_de_Datos.ipynb\" target=\"_parent\"><img src=\"https://colab.research.google.com/assets/colab-badge.svg\" alt=\"Open In Colab\"/></a>"
      ]
    },
    {
      "cell_type": "code",
      "execution_count": null,
      "metadata": {
        "id": "5wtlO1vN91RZ"
      },
      "outputs": [],
      "source": []
    },
    {
      "cell_type": "markdown",
      "source": [
        "# Tipos de Analítica de Datos \n",
        "\n",
        "1. Descriptiva: que sucedio (1)\n",
        "2. Prescriptiva: Que se debería hacer (con base en el pasado, para mejorar en el futuro) (4)\n",
        "3. Diagnóstica: causas de lo que sucedio (2)\n",
        "4. Predictiva: consecuencias de lo que sucedio (3)\n",
        "\n",
        "Tipos de datos: Cuantitativo y Cualitativo\n",
        "\n",
        "Análisis univariado\n",
        "Análisis bivariado\n",
        "Análisis multivariables \n",
        "\n",
        "HERRAMIENTAS DE SOFTWARE PARA EL ANÁLISIS EXPLORATORIO DE DATOS\n",
        "\n",
        "Jupyter Notebook\n",
        "RStudio \n",
        "Azure Machine Learning\n",
        "Amazon SageMaker (Machine Learning)\n",
        "Deepnote (colaborar)"
      ],
      "metadata": {
        "id": "7-ktw3qv41M_"
      }
    },
    {
      "cell_type": "code",
      "source": [],
      "metadata": {
        "id": "RiLozuux58-O"
      },
      "execution_count": null,
      "outputs": []
    },
    {
      "cell_type": "markdown",
      "source": [
        "# Conociendo nuestros datos de pinguinos"
      ],
      "metadata": {
        "id": "jKbnfes56vWN"
      }
    },
    {
      "cell_type": "code",
      "source": [
        "# Instalación de librerías necesarias \n",
        "!pip install --upgrade pip\n",
        "!pip install palmerpenguins numpy pandas seaborn matplotlib empiricaldist statsmodels sklearn pyjanitor"
      ],
      "metadata": {
        "id": "Qa3lQffx61fe"
      },
      "execution_count": null,
      "outputs": []
    },
    {
      "cell_type": "code",
      "source": [
        "# Importe de paquetes necesarios\n",
        "import empiricaldist\n",
        "import janitor\n",
        "import matplotlib.pyplot as plt\n",
        "import numpy as np\n",
        "import palmerpenguins\n",
        "import pandas as pd\n",
        "import scipy.stats\n",
        "import seaborn as sns\n",
        "import sklearn.metrics\n",
        "import statsmodels.api as sm\n",
        "import statsmodels.formula.api as smf\n",
        "import statsmodels.stats as ss"
      ],
      "metadata": {
        "id": "TzG5b5jL8Nqk"
      },
      "execution_count": 5,
      "outputs": []
    },
    {
      "cell_type": "code",
      "source": [],
      "metadata": {
        "id": "y8WO6ZSG9PpE"
      },
      "execution_count": null,
      "outputs": []
    }
  ]
}